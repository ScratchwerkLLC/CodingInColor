{
 "cells": [
  {
   "cell_type": "code",
   "execution_count": null,
   "metadata": {
    "scrolled": true
   },
   "outputs": [],
   "source": [
    "pip install requests"
   ]
  },
  {
   "cell_type": "code",
   "execution_count": null,
   "metadata": {},
   "outputs": [],
   "source": [
    "pip install pgeocode"
   ]
  },
  {
   "cell_type": "code",
   "execution_count": null,
   "metadata": {},
   "outputs": [],
   "source": [
    "import requests\n",
    "import pgeocode\n",
    "\n",
    "#Sample time and date: 2018-05-12T09:30:00\n",
    "time = input(\"Enter desired date and time in format '[YYYY]-[MM]-[DD]T[HH]:[MM]:[SS]': \")\n",
    "zipCode = input(\"Enter Zip Code: \")\n",
    "\n",
    "nomi = pgeocode.Nominatim('us')\n",
    "res = nomi.query_postal_code(zipCode)\n",
    "latitude = str(res.latitude)\n",
    "longitude = str(res.longitude)\n",
    "\n",
    "reqURL = \"https://dark-sky.p.rapidapi.com/\"\n",
    "reqURL = reqURL + latitude + \",\" + longitude + \",\" + time.rstrip()\n",
    "print(\"Request URL is: \" + reqURL)\n",
    "\n",
    "response = requests.get(reqURL,\n",
    "  headers={\n",
    "    \"X-RapidAPI-Host\": \"dark-sky.p.rapidapi.com\",\n",
    "    \"X-RapidAPI-Key\": \"24eb370132msh7a65014a1c13bbdp113c76jsn5614c1b24a06\"\n",
    "  }\n",
    ")\n",
    "\n",
    "summary = response.json()[\"currently\"][\"summary\"]\n",
    "temp = response.json()[\"currently\"][\"temperature\"]\n",
    "prec = response.json()[\"currently\"][\"precipProbability\"]\n",
    "print(summary + \" with a temperature of \" + str(temp) + \" and rain \" + str(prec))"
   ]
  },
  {
   "cell_type": "code",
   "execution_count": null,
   "metadata": {},
   "outputs": [],
   "source": []
  }
 ],
 "metadata": {
  "kernelspec": {
   "display_name": "Python 3",
   "language": "python",
   "name": "python3"
  },
  "language_info": {
   "codemirror_mode": {
    "name": "ipython",
    "version": 3
   },
   "file_extension": ".py",
   "mimetype": "text/x-python",
   "name": "python",
   "nbconvert_exporter": "python",
   "pygments_lexer": "ipython3",
   "version": "3.7.3"
  }
 },
 "nbformat": 4,
 "nbformat_minor": 2
}
