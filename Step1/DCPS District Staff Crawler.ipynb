{
 "cells": [
  {
   "cell_type": "code",
   "execution_count": null,
   "metadata": {},
   "outputs": [],
   "source": [
    "pip install beautifulsoup4"
   ]
  },
  {
   "cell_type": "code",
   "execution_count": null,
   "metadata": {},
   "outputs": [],
   "source": [
    "pip install lxml"
   ]
  },
  {
   "cell_type": "code",
   "execution_count": null,
   "metadata": {},
   "outputs": [],
   "source": [
    "pip install html5lib"
   ]
  },
  {
   "cell_type": "code",
   "execution_count": 6,
   "metadata": {},
   "outputs": [],
   "source": [
    "import urllib.request, urllib.parse, urllib.error\n",
    "from bs4 import BeautifulSoup\n",
    "import ssl\n",
    "import re\n",
    "import csv"
   ]
  },
  {
   "cell_type": "code",
   "execution_count": 7,
   "metadata": {},
   "outputs": [
    {
     "name": "stdout",
     "output_type": "stream",
     "text": [
      "https://dcps.duvalschools.org//site/UserControls/Minibase/MinibaseListWrapper.aspx?ModuleInstanceID=3499&PageModuleInstanceID=10738&FilterFields=comparetype%3AE%3AS%3Bcomparetype%3AE%3AS%3Bcomparetype%3AE%3AS%3B&DirectoryType=C&PageIndex=\n",
      "Total Staff Count is: 13428\n"
     ]
    }
   ],
   "source": [
    "# Ignore SSL certificate errors\n",
    "ctx = ssl.create_default_context()\n",
    "ctx.check_hostname = False\n",
    "ctx.verify_mode = ssl.CERT_NONE\n",
    "\n",
    "pageCount = 0\n",
    "staffCount = 0\n",
    "\n",
    "#Grab the URL\n",
    "url = \"https://dcps.duvalschools.org//site/UserControls/Minibase/MinibaseListWrapper.aspx?ModuleInstanceID=3499&PageModuleInstanceID=10738&FilterFields=comparetype%3AE%3AS%3Bcomparetype%3AE%3AS%3Bcomparetype%3AE%3AS%3B&DirectoryType=C&PageIndex=\"\n",
    "print(url)\n",
    "\n",
    "#Open the csvFile to write to\n",
    "with open('DCPS_Employees_2019.csv', 'w') as csvFile:\n",
    "    writer = csv.writer(csvFile)\n",
    "    while True:\n",
    "        #Break loop after a certain number of pages\n",
    "        if pageCount > 537:\n",
    "            break\n",
    "        #Go page by page to grab employees\n",
    "        pageCount = pageCount + 1\n",
    "        pageIndex = str(pageCount)\n",
    "        html = urllib.request.urlopen(url+pageIndex, context=ctx).read()\n",
    "        soup = BeautifulSoup(html, 'html.parser')\n",
    "        divTags = soup.find_all('div', {'class': ['sw-flex-item-group']})\n",
    "        for tag in divTags:\n",
    "            staffCount = staffCount + 1\n",
    "            name = tag.span.string.split()\n",
    "            fName = name[0]\n",
    "            lName = name[1]\n",
    "            #print(fName + \" \" + lName + \" \" + tag.em.string + \" \" + tag.a['href'])\n",
    "            row = [fName , lName, tag.em.string, tag.a['href']]\n",
    "            writer.writerow(row)\n",
    "#Close the file writer\n",
    "csvFile.close()\n",
    "\n",
    "print(\"Total Staff Count is: \" + str(staffCount))\n",
    "\n"
   ]
  },
  {
   "cell_type": "code",
   "execution_count": null,
   "metadata": {},
   "outputs": [],
   "source": []
  }
 ],
 "metadata": {
  "kernelspec": {
   "display_name": "Python 3",
   "language": "python",
   "name": "python3"
  },
  "language_info": {
   "codemirror_mode": {
    "name": "ipython",
    "version": 3
   },
   "file_extension": ".py",
   "mimetype": "text/x-python",
   "name": "python",
   "nbconvert_exporter": "python",
   "pygments_lexer": "ipython3",
   "version": "3.7.3"
  }
 },
 "nbformat": 4,
 "nbformat_minor": 2
}
